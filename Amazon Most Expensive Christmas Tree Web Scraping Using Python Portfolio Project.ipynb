{
 "cells": [
  {
   "cell_type": "code",
   "execution_count": 1,
   "id": "df72cfdb",
   "metadata": {},
   "outputs": [],
   "source": [
    "# imported libraries \n",
    "\n",
    "from bs4 import BeautifulSoup\n",
    "import requests\n",
    "import time\n",
    "import datetime\n",
    "import smtplib\n",
    "from selenium import webdriver\n",
    "from selenium.webdriver.common.by import By\n",
    "from selenium.webdriver.support.ui import WebDriverWait\n",
    "from selenium.webdriver.support import expected_conditions as EC\n",
    "from selenium.webdriver.chrome.options import Options"
   ]
  },
  {
   "cell_type": "code",
   "execution_count": 2,
   "id": "5a7e3452",
   "metadata": {},
   "outputs": [
    {
     "name": "stdout",
     "output_type": "stream",
     "text": [
      "Requirement already satisfied: selenium in c:\\users\\ncati\\anaconda3\\lib\\site-packages (4.15.2)Note: you may need to restart the kernel to use updated packages.\n",
      "\n",
      "Requirement already satisfied: jupyter in c:\\users\\ncati\\anaconda3\\lib\\site-packages (1.0.0)\n",
      "Requirement already satisfied: urllib3[socks]<3,>=1.26 in c:\\users\\ncati\\anaconda3\\lib\\site-packages (from selenium) (1.26.16)\n",
      "Requirement already satisfied: trio~=0.17 in c:\\users\\ncati\\anaconda3\\lib\\site-packages (from selenium) (0.23.1)\n",
      "Requirement already satisfied: trio-websocket~=0.9 in c:\\users\\ncati\\anaconda3\\lib\\site-packages (from selenium) (0.11.1)\n",
      "Requirement already satisfied: certifi>=2021.10.8 in c:\\users\\ncati\\anaconda3\\lib\\site-packages (from selenium) (2023.7.22)\n",
      "Requirement already satisfied: notebook in c:\\users\\ncati\\anaconda3\\lib\\site-packages (from jupyter) (6.5.4)\n",
      "Requirement already satisfied: qtconsole in c:\\users\\ncati\\anaconda3\\lib\\site-packages (from jupyter) (5.4.2)\n",
      "Requirement already satisfied: jupyter-console in c:\\users\\ncati\\anaconda3\\lib\\site-packages (from jupyter) (6.6.3)\n",
      "Requirement already satisfied: nbconvert in c:\\users\\ncati\\anaconda3\\lib\\site-packages (from jupyter) (6.5.4)\n",
      "Requirement already satisfied: ipykernel in c:\\users\\ncati\\anaconda3\\lib\\site-packages (from jupyter) (6.25.0)\n",
      "Requirement already satisfied: ipywidgets in c:\\users\\ncati\\anaconda3\\lib\\site-packages (from jupyter) (8.0.4)\n",
      "Requirement already satisfied: attrs>=20.1.0 in c:\\users\\ncati\\anaconda3\\lib\\site-packages (from trio~=0.17->selenium) (22.1.0)\n",
      "Requirement already satisfied: sortedcontainers in c:\\users\\ncati\\anaconda3\\lib\\site-packages (from trio~=0.17->selenium) (2.4.0)\n",
      "Requirement already satisfied: idna in c:\\users\\ncati\\anaconda3\\lib\\site-packages (from trio~=0.17->selenium) (3.4)\n",
      "Requirement already satisfied: outcome in c:\\users\\ncati\\anaconda3\\lib\\site-packages (from trio~=0.17->selenium) (1.3.0.post0)\n",
      "Requirement already satisfied: sniffio>=1.3.0 in c:\\users\\ncati\\anaconda3\\lib\\site-packages (from trio~=0.17->selenium) (1.3.0)\n",
      "Requirement already satisfied: cffi>=1.14 in c:\\users\\ncati\\anaconda3\\lib\\site-packages (from trio~=0.17->selenium) (1.15.1)\n",
      "Requirement already satisfied: wsproto>=0.14 in c:\\users\\ncati\\anaconda3\\lib\\site-packages (from trio-websocket~=0.9->selenium) (1.2.0)\n",
      "Requirement already satisfied: PySocks!=1.5.7,<2.0,>=1.5.6 in c:\\users\\ncati\\anaconda3\\lib\\site-packages (from urllib3[socks]<3,>=1.26->selenium) (1.7.1)\n",
      "Requirement already satisfied: comm>=0.1.1 in c:\\users\\ncati\\anaconda3\\lib\\site-packages (from ipykernel->jupyter) (0.1.2)\n",
      "Requirement already satisfied: debugpy>=1.6.5 in c:\\users\\ncati\\anaconda3\\lib\\site-packages (from ipykernel->jupyter) (1.6.7)\n",
      "Requirement already satisfied: ipython>=7.23.1 in c:\\users\\ncati\\anaconda3\\lib\\site-packages (from ipykernel->jupyter) (8.15.0)\n",
      "Requirement already satisfied: jupyter-client>=6.1.12 in c:\\users\\ncati\\anaconda3\\lib\\site-packages (from ipykernel->jupyter) (7.4.9)\n",
      "Requirement already satisfied: jupyter-core!=5.0.*,>=4.12 in c:\\users\\ncati\\anaconda3\\lib\\site-packages (from ipykernel->jupyter) (5.3.0)\n",
      "Requirement already satisfied: matplotlib-inline>=0.1 in c:\\users\\ncati\\anaconda3\\lib\\site-packages (from ipykernel->jupyter) (0.1.6)\n",
      "Requirement already satisfied: nest-asyncio in c:\\users\\ncati\\anaconda3\\lib\\site-packages (from ipykernel->jupyter) (1.5.6)\n",
      "Requirement already satisfied: packaging in c:\\users\\ncati\\anaconda3\\lib\\site-packages (from ipykernel->jupyter) (23.1)\n",
      "Requirement already satisfied: psutil in c:\\users\\ncati\\anaconda3\\lib\\site-packages (from ipykernel->jupyter) (5.9.0)\n",
      "Requirement already satisfied: pyzmq>=20 in c:\\users\\ncati\\anaconda3\\lib\\site-packages (from ipykernel->jupyter) (23.2.0)\n",
      "Requirement already satisfied: tornado>=6.1 in c:\\users\\ncati\\anaconda3\\lib\\site-packages (from ipykernel->jupyter) (6.3.2)\n",
      "Requirement already satisfied: traitlets>=5.4.0 in c:\\users\\ncati\\anaconda3\\lib\\site-packages (from ipykernel->jupyter) (5.7.1)\n",
      "Requirement already satisfied: widgetsnbextension~=4.0 in c:\\users\\ncati\\anaconda3\\lib\\site-packages (from ipywidgets->jupyter) (4.0.5)\n",
      "Requirement already satisfied: jupyterlab-widgets~=3.0 in c:\\users\\ncati\\anaconda3\\lib\\site-packages (from ipywidgets->jupyter) (3.0.5)\n",
      "Requirement already satisfied: prompt-toolkit>=3.0.30 in c:\\users\\ncati\\anaconda3\\lib\\site-packages (from jupyter-console->jupyter) (3.0.36)\n",
      "Requirement already satisfied: pygments in c:\\users\\ncati\\anaconda3\\lib\\site-packages (from jupyter-console->jupyter) (2.15.1)\n",
      "Requirement already satisfied: lxml in c:\\users\\ncati\\anaconda3\\lib\\site-packages (from nbconvert->jupyter) (4.9.3)\n",
      "Requirement already satisfied: beautifulsoup4 in c:\\users\\ncati\\anaconda3\\lib\\site-packages (from nbconvert->jupyter) (4.12.2)\n",
      "Requirement already satisfied: bleach in c:\\users\\ncati\\anaconda3\\lib\\site-packages (from nbconvert->jupyter) (4.1.0)\n",
      "Requirement already satisfied: defusedxml in c:\\users\\ncati\\anaconda3\\lib\\site-packages (from nbconvert->jupyter) (0.7.1)\n",
      "Requirement already satisfied: entrypoints>=0.2.2 in c:\\users\\ncati\\anaconda3\\lib\\site-packages (from nbconvert->jupyter) (0.4)\n",
      "Requirement already satisfied: jinja2>=3.0 in c:\\users\\ncati\\anaconda3\\lib\\site-packages (from nbconvert->jupyter) (3.1.2)\n",
      "Requirement already satisfied: jupyterlab-pygments in c:\\users\\ncati\\anaconda3\\lib\\site-packages (from nbconvert->jupyter) (0.1.2)\n",
      "Requirement already satisfied: MarkupSafe>=2.0 in c:\\users\\ncati\\anaconda3\\lib\\site-packages (from nbconvert->jupyter) (2.1.1)\n",
      "Requirement already satisfied: mistune<2,>=0.8.1 in c:\\users\\ncati\\anaconda3\\lib\\site-packages (from nbconvert->jupyter) (0.8.4)\n",
      "Requirement already satisfied: nbclient>=0.5.0 in c:\\users\\ncati\\anaconda3\\lib\\site-packages (from nbconvert->jupyter) (0.5.13)\n",
      "Requirement already satisfied: nbformat>=5.1 in c:\\users\\ncati\\anaconda3\\lib\\site-packages (from nbconvert->jupyter) (5.9.2)\n",
      "Requirement already satisfied: pandocfilters>=1.4.1 in c:\\users\\ncati\\anaconda3\\lib\\site-packages (from nbconvert->jupyter) (1.5.0)\n",
      "Requirement already satisfied: tinycss2 in c:\\users\\ncati\\anaconda3\\lib\\site-packages (from nbconvert->jupyter) (1.2.1)\n",
      "Requirement already satisfied: argon2-cffi in c:\\users\\ncati\\anaconda3\\lib\\site-packages (from notebook->jupyter) (21.3.0)\n",
      "Requirement already satisfied: ipython-genutils in c:\\users\\ncati\\anaconda3\\lib\\site-packages (from notebook->jupyter) (0.2.0)\n",
      "Requirement already satisfied: Send2Trash>=1.8.0 in c:\\users\\ncati\\anaconda3\\lib\\site-packages (from notebook->jupyter) (1.8.0)\n",
      "Requirement already satisfied: terminado>=0.8.3 in c:\\users\\ncati\\anaconda3\\lib\\site-packages (from notebook->jupyter) (0.17.1)\n",
      "Requirement already satisfied: prometheus-client in c:\\users\\ncati\\anaconda3\\lib\\site-packages (from notebook->jupyter) (0.14.1)\n",
      "Requirement already satisfied: nbclassic>=0.4.7 in c:\\users\\ncati\\anaconda3\\lib\\site-packages (from notebook->jupyter) (0.5.5)\n",
      "Requirement already satisfied: qtpy>=2.0.1 in c:\\users\\ncati\\anaconda3\\lib\\site-packages (from qtconsole->jupyter) (2.2.0)\n",
      "Requirement already satisfied: pycparser in c:\\users\\ncati\\anaconda3\\lib\\site-packages (from cffi>=1.14->trio~=0.17->selenium) (2.21)\n",
      "Requirement already satisfied: backcall in c:\\users\\ncati\\anaconda3\\lib\\site-packages (from ipython>=7.23.1->ipykernel->jupyter) (0.2.0)\n",
      "Requirement already satisfied: decorator in c:\\users\\ncati\\anaconda3\\lib\\site-packages (from ipython>=7.23.1->ipykernel->jupyter) (5.1.1)\n",
      "Requirement already satisfied: jedi>=0.16 in c:\\users\\ncati\\anaconda3\\lib\\site-packages (from ipython>=7.23.1->ipykernel->jupyter) (0.18.1)\n",
      "Requirement already satisfied: pickleshare in c:\\users\\ncati\\anaconda3\\lib\\site-packages (from ipython>=7.23.1->ipykernel->jupyter) (0.7.5)\n",
      "Requirement already satisfied: stack-data in c:\\users\\ncati\\anaconda3\\lib\\site-packages (from ipython>=7.23.1->ipykernel->jupyter) (0.2.0)\n",
      "Requirement already satisfied: colorama in c:\\users\\ncati\\anaconda3\\lib\\site-packages (from ipython>=7.23.1->ipykernel->jupyter) (0.4.6)\n",
      "Requirement already satisfied: python-dateutil>=2.8.2 in c:\\users\\ncati\\anaconda3\\lib\\site-packages (from jupyter-client>=6.1.12->ipykernel->jupyter) (2.8.2)\n",
      "Requirement already satisfied: platformdirs>=2.5 in c:\\users\\ncati\\anaconda3\\lib\\site-packages (from jupyter-core!=5.0.*,>=4.12->ipykernel->jupyter) (3.10.0)\n",
      "Requirement already satisfied: pywin32>=300 in c:\\users\\ncati\\anaconda3\\lib\\site-packages (from jupyter-core!=5.0.*,>=4.12->ipykernel->jupyter) (305.1)\n",
      "Requirement already satisfied: jupyter-server>=1.8 in c:\\users\\ncati\\anaconda3\\lib\\site-packages (from nbclassic>=0.4.7->notebook->jupyter) (1.23.4)\n",
      "Requirement already satisfied: notebook-shim>=0.1.0 in c:\\users\\ncati\\anaconda3\\lib\\site-packages (from nbclassic>=0.4.7->notebook->jupyter) (0.2.2)\n",
      "Requirement already satisfied: fastjsonschema in c:\\users\\ncati\\anaconda3\\lib\\site-packages (from nbformat>=5.1->nbconvert->jupyter) (2.16.2)\n",
      "Requirement already satisfied: jsonschema>=2.6 in c:\\users\\ncati\\anaconda3\\lib\\site-packages (from nbformat>=5.1->nbconvert->jupyter) (4.17.3)\n",
      "Requirement already satisfied: wcwidth in c:\\users\\ncati\\anaconda3\\lib\\site-packages (from prompt-toolkit>=3.0.30->jupyter-console->jupyter) (0.2.5)\n",
      "Requirement already satisfied: pywinpty>=1.1.0 in c:\\users\\ncati\\anaconda3\\lib\\site-packages (from terminado>=0.8.3->notebook->jupyter) (2.0.10)\n",
      "Requirement already satisfied: h11<1,>=0.9.0 in c:\\users\\ncati\\anaconda3\\lib\\site-packages (from wsproto>=0.14->trio-websocket~=0.9->selenium) (0.14.0)\n",
      "Requirement already satisfied: argon2-cffi-bindings in c:\\users\\ncati\\anaconda3\\lib\\site-packages (from argon2-cffi->notebook->jupyter) (21.2.0)\n",
      "Requirement already satisfied: soupsieve>1.2 in c:\\users\\ncati\\anaconda3\\lib\\site-packages (from beautifulsoup4->nbconvert->jupyter) (2.4)\n",
      "Requirement already satisfied: six>=1.9.0 in c:\\users\\ncati\\anaconda3\\lib\\site-packages (from bleach->nbconvert->jupyter) (1.16.0)\n",
      "Requirement already satisfied: webencodings in c:\\users\\ncati\\anaconda3\\lib\\site-packages (from bleach->nbconvert->jupyter) (0.5.1)\n",
      "Requirement already satisfied: parso<0.9.0,>=0.8.0 in c:\\users\\ncati\\anaconda3\\lib\\site-packages (from jedi>=0.16->ipython>=7.23.1->ipykernel->jupyter) (0.8.3)\n",
      "Requirement already satisfied: pyrsistent!=0.17.0,!=0.17.1,!=0.17.2,>=0.14.0 in c:\\users\\ncati\\anaconda3\\lib\\site-packages (from jsonschema>=2.6->nbformat>=5.1->nbconvert->jupyter) (0.18.0)\n",
      "Requirement already satisfied: anyio<4,>=3.1.0 in c:\\users\\ncati\\anaconda3\\lib\\site-packages (from jupyter-server>=1.8->nbclassic>=0.4.7->notebook->jupyter) (3.5.0)\n",
      "Requirement already satisfied: websocket-client in c:\\users\\ncati\\anaconda3\\lib\\site-packages (from jupyter-server>=1.8->nbclassic>=0.4.7->notebook->jupyter) (0.58.0)\n",
      "Requirement already satisfied: executing in c:\\users\\ncati\\anaconda3\\lib\\site-packages (from stack-data->ipython>=7.23.1->ipykernel->jupyter) (0.8.3)\n",
      "Requirement already satisfied: asttokens in c:\\users\\ncati\\anaconda3\\lib\\site-packages (from stack-data->ipython>=7.23.1->ipykernel->jupyter) (2.0.5)\n",
      "Requirement already satisfied: pure-eval in c:\\users\\ncati\\anaconda3\\lib\\site-packages (from stack-data->ipython>=7.23.1->ipykernel->jupyter) (0.2.2)\n"
     ]
    }
   ],
   "source": [
    "pip install --upgrade selenium jupyter\n"
   ]
  },
  {
   "cell_type": "code",
   "execution_count": 3,
   "id": "0a3efa5e",
   "metadata": {},
   "outputs": [
    {
     "name": "stdout",
     "output_type": "stream",
     "text": [
      "Starting WebDriver...\n",
      "Navigating to URL...\n",
      "Extracting Product Title...\n",
      "Title: National Tree Company Artificial Full Christmas Tree, Green, Dunhill Fir, Includes Stand, 12 Feet\n",
      "Extracting Product Price...\n",
      "Price: 795.04\n",
      "Extracting Average Rating...\n",
      "Average Rating: 4.5 out of 5\n",
      "Extracting Star Percentages...\n",
      "\n",
      "Printing Star Percentages:\n",
      "5 Star: 76%\n",
      "4 Star: 12%\n",
      "3 Star: 5%\n",
      "2 Star: 2%\n",
      "1 Star: 4%\n",
      "Quitting WebDriver...\n"
     ]
    }
   ],
   "source": [
    "#Connect to Website\n",
    "from selenium import webdriver\n",
    "from selenium.webdriver.chrome.options import Options\n",
    "from selenium.webdriver.support.ui import WebDriverWait\n",
    "from selenium.webdriver.support import expected_conditions as EC\n",
    "from selenium.webdriver.common.by import By\n",
    "\n",
    "URL = 'https://www.amazon.com/National-Tree-Dunhill-Hinged-DUH-120/dp/B00FADN1OE/'\n",
    "options = Options()\n",
    "# options.add_argument(\"--headless\")  # Uncomment if you want to run in headless mode\n",
    "\n",
    "try:\n",
    "    print(\"Starting WebDriver...\")\n",
    "    driver = webdriver.Chrome(options=options)\n",
    "    print(\"Navigating to URL...\")\n",
    "    driver.get(URL)\n",
    "\n",
    "    print(\"Extracting Product Title...\")\n",
    "    title_element = WebDriverWait(driver, 10).until(\n",
    "        EC.presence_of_element_located((By.ID, \"productTitle\"))\n",
    "    )\n",
    "    title = title_element.text.strip()\n",
    "    print(\"Title:\", title)\n",
    "\n",
    "    print(\"Extracting Product Price...\")\n",
    "    price_whole = WebDriverWait(driver, 10).until(\n",
    "        EC.presence_of_element_located((By.CLASS_NAME, \"a-price-whole\"))\n",
    "    ).text\n",
    "    price_fraction = WebDriverWait(driver, 10).until(\n",
    "        EC.presence_of_element_located((By.CLASS_NAME, \"a-price-fraction\"))\n",
    "    ).text\n",
    "    price = price_whole + '.' + price_fraction\n",
    "    print(\"Price:\", price)\n",
    "\n",
    "    print(\"Extracting Average Rating...\")\n",
    "    avg_rating = WebDriverWait(driver, 10).until(\n",
    "        EC.presence_of_element_located((By.XPATH, \"//span[@data-hook='rating-out-of-text']\"))\n",
    "    ).text\n",
    "    print(\"Average Rating:\", avg_rating)\n",
    "\n",
    "    print(\"Extracting Star Percentages...\")\n",
    "    ratings_percent = WebDriverWait(driver, 10).until(\n",
    "        EC.presence_of_all_elements_located((By.XPATH, \"//tr[@class='a-histogram-row a-align-center']//a[contains(@aria-label, 'percent of reviews')]\"))\n",
    "    )\n",
    "    \n",
    "    # Store percentages in a dictionary\n",
    "    star_percentages = {}\n",
    "    for i, rating in enumerate(ratings_percent, start=1):\n",
    "        percentage = rating.text.replace('%', '').strip()\n",
    "        star_percentages[5-i+1] = percentage\n",
    "    \n",
    "    # Now you can print the stored percentages whenever you want\n",
    "    print(\"\\nPrinting Star Percentages:\")\n",
    "    for star, percentage in star_percentages.items():\n",
    "        print(f\"{star} Star: {percentage}%\")\n",
    "\n",
    "except Exception as e:\n",
    "    print(\"An error occurred:\", e)\n",
    "\n",
    "finally:\n",
    "    print(\"Quitting WebDriver...\")\n",
    "    driver.quit()\n"
   ]
  },
  {
   "cell_type": "code",
   "execution_count": 4,
   "id": "2bd8a355",
   "metadata": {},
   "outputs": [
    {
     "name": "stdout",
     "output_type": "stream",
     "text": [
      "2023-11-05\n"
     ]
    }
   ],
   "source": [
    "import datetime \n",
    "today = datetime.date.today()\n",
    "print(today)"
   ]
  },
  {
   "cell_type": "code",
   "execution_count": 5,
   "id": "d117afed",
   "metadata": {},
   "outputs": [
    {
     "name": "stdout",
     "output_type": "stream",
     "text": [
      "795.04\n"
     ]
    }
   ],
   "source": [
    "print(price)"
   ]
  },
  {
   "cell_type": "code",
   "execution_count": 6,
   "id": "95cd1c1c",
   "metadata": {},
   "outputs": [
    {
     "name": "stdout",
     "output_type": "stream",
     "text": [
      "National Tree Company Artificial Full Christmas Tree, Green, Dunhill Fir, Includes Stand, 12 Feet\n",
      "4.5 out of 5\n",
      "{5: '76', 4: '12', 3: '5', 2: '2', 1: '4'}\n"
     ]
    }
   ],
   "source": [
    "print(title)\n",
    "print(avg_rating)\n",
    "print(star_percentages)"
   ]
  },
  {
   "cell_type": "code",
   "execution_count": 7,
   "id": "8f3dae7d",
   "metadata": {},
   "outputs": [
    {
     "name": "stdout",
     "output_type": "stream",
     "text": [
      "{5: '76', 4: '12', 3: '5', 2: '2', 1: '4'}\n"
     ]
    }
   ],
   "source": [
    "star_percentages = {5: '76', 4: '12', 3: '5', 2: '2', 1: '4'}\n",
    "percentage_of_each_star_rating = str(star_percentages)\n",
    "print(percentage_of_each_star_rating)"
   ]
  },
  {
   "cell_type": "code",
   "execution_count": 9,
   "id": "e857576c",
   "metadata": {},
   "outputs": [
    {
     "data": {
      "text/plain": [
       "str"
      ]
     },
     "execution_count": 9,
     "metadata": {},
     "output_type": "execute_result"
    }
   ],
   "source": [
    "type(price)\n",
    "type(avg_rating)\n",
    "type(percentage_of_each_star_rating)"
   ]
  },
  {
   "cell_type": "code",
   "execution_count": 10,
   "id": "b26f125b",
   "metadata": {},
   "outputs": [],
   "source": [
    "import csv\n",
    "# Your star percentages\n",
    "star_percentages = {5: '76', 4: '12', 3: '5', 2: '2', 1: '4'}\n",
    "\n",
    "# Modify the header to include columns for each star rating\n",
    "header = ['Title', 'Price', 'Average Ratings', '5 Star Percent', '4 Star Percent', '3 Star Percent', '2 Star Percent', '1 Star Pecrcent', 'Date']\n",
    "\n",
    "# Modify the data to include percentages for each star rating\n",
    "data = [title, price, avg_rating, star_percentages[5], star_percentages[4], star_percentages[3], star_percentages[2], star_percentages[1], today]\n",
    "\n",
    "# Open the CSV file in write mode\n",
    "with open('AmazonMostExpensiveChristmasTreeWebScraperDataset.csv', 'w', newline='', encoding='utf-8') as f:\n",
    "    writer = csv.writer(f)\n",
    "\n",
    "    # Write header and data\n",
    "    writer.writerow(header)\n",
    "    writer.writerow(data)"
   ]
  },
  {
   "cell_type": "code",
   "execution_count": 11,
   "id": "88eec5e8",
   "metadata": {},
   "outputs": [
    {
     "data": {
      "text/html": [
       "<div>\n",
       "<style scoped>\n",
       "    .dataframe tbody tr th:only-of-type {\n",
       "        vertical-align: middle;\n",
       "    }\n",
       "\n",
       "    .dataframe tbody tr th {\n",
       "        vertical-align: top;\n",
       "    }\n",
       "\n",
       "    .dataframe thead th {\n",
       "        text-align: right;\n",
       "    }\n",
       "</style>\n",
       "<table border=\"1\" class=\"dataframe\">\n",
       "  <thead>\n",
       "    <tr style=\"text-align: right;\">\n",
       "      <th></th>\n",
       "      <th>Title</th>\n",
       "      <th>Price</th>\n",
       "      <th>Average Ratings</th>\n",
       "      <th>5 Star Percent</th>\n",
       "      <th>4 Star Percent</th>\n",
       "      <th>3 Star Percent</th>\n",
       "      <th>2 Star Percent</th>\n",
       "      <th>1 Star Pecrcent</th>\n",
       "      <th>Date</th>\n",
       "    </tr>\n",
       "  </thead>\n",
       "  <tbody>\n",
       "    <tr>\n",
       "      <th>0</th>\n",
       "      <td>National Tree Company Artificial Full Christma...</td>\n",
       "      <td>795.04</td>\n",
       "      <td>4.5 out of 5</td>\n",
       "      <td>76</td>\n",
       "      <td>12</td>\n",
       "      <td>5</td>\n",
       "      <td>2</td>\n",
       "      <td>4</td>\n",
       "      <td>2023-11-05</td>\n",
       "    </tr>\n",
       "  </tbody>\n",
       "</table>\n",
       "</div>"
      ],
      "text/plain": [
       "                                               Title   Price Average Ratings  \\\n",
       "0  National Tree Company Artificial Full Christma...  795.04    4.5 out of 5   \n",
       "\n",
       "   5 Star Percent  4 Star Percent  3 Star Percent  2 Star Percent  \\\n",
       "0              76              12               5               2   \n",
       "\n",
       "   1 Star Pecrcent        Date  \n",
       "0                4  2023-11-05  "
      ]
     },
     "execution_count": 11,
     "metadata": {},
     "output_type": "execute_result"
    }
   ],
   "source": [
    "import pandas as pd\n",
    "df=pd.read_csv(r\"C:\\Users\\ncati\\AmazonMostExpensiveChristmasTreeWebScraperDataset.csv\")\n",
    "df"
   ]
  },
  {
   "cell_type": "code",
   "execution_count": null,
   "id": "f692117d",
   "metadata": {},
   "outputs": [],
   "source": [
    "import csv\n",
    "import time\n",
    "import datetime\n",
    "from selenium import webdriver\n",
    "from selenium.webdriver.chrome.options import Options\n",
    "from selenium.webdriver.support.ui import WebDriverWait\n",
    "from selenium.webdriver.support import expected_conditions as EC\n",
    "from selenium.webdriver.common.by import By\n",
    "\n",
    "def check_price():\n",
    "    URL = 'https://www.amazon.com/National-Tree-Dunhill-Hinged-DUH-120/dp/B00FADN1OE/'\n",
    "    options = Options()\n",
    "\n",
    "    try:\n",
    "        driver = webdriver.Chrome(options=options)\n",
    "        driver.get(URL)\n",
    "\n",
    "        title_element = WebDriverWait(driver, 10).until(\n",
    "            EC.presence_of_element_located((By.ID, \"productTitle\"))\n",
    "        )\n",
    "        title = title_element.text.strip()\n",
    "\n",
    "        price_whole = WebDriverWait(driver, 10).until(\n",
    "            EC.presence_of_element_located((By.CLASS_NAME, \"a-price-whole\"))\n",
    "        ).text\n",
    "        price_fraction = WebDriverWait(driver, 10).until(\n",
    "            EC.presence_of_element_located((By.CLASS_NAME, \"a-price-fraction\"))\n",
    "        ).text\n",
    "        price = price_whole + '.' + price_fraction\n",
    "\n",
    "        avg_rating = WebDriverWait(driver, 10).until(\n",
    "            EC.presence_of_element_located((By.XPATH, \"//span[@data-hook='rating-out-of-text']\"))\n",
    "        ).text\n",
    "\n",
    "        ratings_percent = WebDriverWait(driver, 10).until(\n",
    "            EC.presence_of_all_elements_located((By.XPATH, \"//tr[@class='a-histogram-row a-align-center']//a[contains(@aria-label, 'percent of reviews')]\"))\n",
    "        )\n",
    "        star_percentages = {}\n",
    "        for i, rating in enumerate(ratings_percent, start=1):\n",
    "            percentage = rating.text.replace('%', '').strip()\n",
    "            star_percentages[5-i+1] = percentage\n",
    "\n",
    "    except Exception as e:\n",
    "        print(\"An error occurred:\", e)\n",
    "\n",
    "    finally:\n",
    "        driver.quit()\n",
    "\n",
    "    today = datetime.date.today()\n",
    "\n",
    "    header = ['Title', 'Price', 'Average Ratings', '5 Star Percent', '4 Star Percent', '3 Star Percent', '2 Star Percent', '1 Star Pecrcent', 'Date']\n",
    "    data = [title, price, avg_rating, star_percentages[5], star_percentages[4], star_percentages[3], star_percentages[2], star_percentages[1], today]\n",
    "\n",
    "    file_path = 'AmazonMostExpensiveChristmasTreeWebScraperDataset.csv'\n",
    "\n",
    "    try:\n",
    "        with open(file_path, 'x', newline='', encoding='utf-8') as f:\n",
    "            writer = csv.writer(f)\n",
    "            writer.writerow(header)\n",
    "    except FileExistsError:\n",
    "        pass  # File already exists\n",
    "    \n",
    "    with open(file_path, 'a', newline='', encoding='utf-8') as f:\n",
    "        writer = csv.writer(f)\n",
    "        writer.writerow(data)\n",
    "\n",
    "# Call the function\n",
    "check_price()\n",
    "\n",
    "while True: \n",
    "    check_price()\n",
    "    time.sleep(86400)\n"
   ]
  },
  {
   "cell_type": "code",
   "execution_count": 13,
   "id": "0598fc5b",
   "metadata": {},
   "outputs": [
    {
     "data": {
      "text/html": [
       "<div>\n",
       "<style scoped>\n",
       "    .dataframe tbody tr th:only-of-type {\n",
       "        vertical-align: middle;\n",
       "    }\n",
       "\n",
       "    .dataframe tbody tr th {\n",
       "        vertical-align: top;\n",
       "    }\n",
       "\n",
       "    .dataframe thead th {\n",
       "        text-align: right;\n",
       "    }\n",
       "</style>\n",
       "<table border=\"1\" class=\"dataframe\">\n",
       "  <thead>\n",
       "    <tr style=\"text-align: right;\">\n",
       "      <th></th>\n",
       "      <th>Title</th>\n",
       "      <th>Price</th>\n",
       "      <th>Average Ratings</th>\n",
       "      <th>5 Star Percent</th>\n",
       "      <th>4 Star Percent</th>\n",
       "      <th>3 Star Percent</th>\n",
       "      <th>2 Star Percent</th>\n",
       "      <th>1 Star Pecrcent</th>\n",
       "      <th>Date</th>\n",
       "    </tr>\n",
       "  </thead>\n",
       "  <tbody>\n",
       "    <tr>\n",
       "      <th>0</th>\n",
       "      <td>National Tree Company Artificial Full Christma...</td>\n",
       "      <td>795.04</td>\n",
       "      <td>4.5 out of 5</td>\n",
       "      <td>76</td>\n",
       "      <td>12</td>\n",
       "      <td>5</td>\n",
       "      <td>2</td>\n",
       "      <td>4</td>\n",
       "      <td>2023-11-05</td>\n",
       "    </tr>\n",
       "    <tr>\n",
       "      <th>1</th>\n",
       "      <td>National Tree Company Artificial Full Christma...</td>\n",
       "      <td>795.04</td>\n",
       "      <td>4.5 out of 5</td>\n",
       "      <td>76</td>\n",
       "      <td>12</td>\n",
       "      <td>5</td>\n",
       "      <td>2</td>\n",
       "      <td>4</td>\n",
       "      <td>2023-11-05</td>\n",
       "    </tr>\n",
       "    <tr>\n",
       "      <th>2</th>\n",
       "      <td>National Tree Company Artificial Full Christma...</td>\n",
       "      <td>795.04</td>\n",
       "      <td>4.5 out of 5</td>\n",
       "      <td>76</td>\n",
       "      <td>12</td>\n",
       "      <td>5</td>\n",
       "      <td>2</td>\n",
       "      <td>4</td>\n",
       "      <td>2023-11-05</td>\n",
       "    </tr>\n",
       "  </tbody>\n",
       "</table>\n",
       "</div>"
      ],
      "text/plain": [
       "                                               Title   Price Average Ratings  \\\n",
       "0  National Tree Company Artificial Full Christma...  795.04    4.5 out of 5   \n",
       "1  National Tree Company Artificial Full Christma...  795.04    4.5 out of 5   \n",
       "2  National Tree Company Artificial Full Christma...  795.04    4.5 out of 5   \n",
       "\n",
       "   5 Star Percent  4 Star Percent  3 Star Percent  2 Star Percent  \\\n",
       "0              76              12               5               2   \n",
       "1              76              12               5               2   \n",
       "2              76              12               5               2   \n",
       "\n",
       "   1 Star Pecrcent        Date  \n",
       "0                4  2023-11-05  \n",
       "1                4  2023-11-05  \n",
       "2                4  2023-11-05  "
      ]
     },
     "execution_count": 13,
     "metadata": {},
     "output_type": "execute_result"
    }
   ],
   "source": [
    "import pandas as pd\n",
    "df=pd.read_csv(r\"C:\\Users\\ncati\\AmazonMostExpensiveChristmasTreeWebScraperDataset.csv\")\n",
    "df"
   ]
  },
  {
   "cell_type": "code",
   "execution_count": null,
   "id": "f3ddaaba",
   "metadata": {},
   "outputs": [],
   "source": []
  },
  {
   "cell_type": "code",
   "execution_count": null,
   "id": "a56c3287",
   "metadata": {},
   "outputs": [],
   "source": []
  },
  {
   "cell_type": "code",
   "execution_count": null,
   "id": "8628eb70",
   "metadata": {},
   "outputs": [],
   "source": []
  },
  {
   "cell_type": "code",
   "execution_count": null,
   "id": "ed0732d5",
   "metadata": {},
   "outputs": [],
   "source": []
  },
  {
   "cell_type": "code",
   "execution_count": null,
   "id": "b5b842ce",
   "metadata": {
    "scrolled": true
   },
   "outputs": [],
   "source": []
  },
  {
   "cell_type": "code",
   "execution_count": null,
   "id": "cdbcf592",
   "metadata": {},
   "outputs": [],
   "source": []
  }
 ],
 "metadata": {
  "kernelspec": {
   "display_name": "Python 3 (ipykernel)",
   "language": "python",
   "name": "python3"
  },
  "language_info": {
   "codemirror_mode": {
    "name": "ipython",
    "version": 3
   },
   "file_extension": ".py",
   "mimetype": "text/x-python",
   "name": "python",
   "nbconvert_exporter": "python",
   "pygments_lexer": "ipython3",
   "version": "3.11.5"
  }
 },
 "nbformat": 4,
 "nbformat_minor": 5
}
